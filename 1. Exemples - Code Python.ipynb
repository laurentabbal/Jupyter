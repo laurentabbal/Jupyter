{
 "cells": [
  {
   "cell_type": "markdown",
   "metadata": {},
   "source": [
    "# Exemples"
   ]
  },
  {
   "cell_type": "markdown",
   "metadata": {},
   "source": [
    "## Afficher"
   ]
  },
  {
   "cell_type": "markdown",
   "metadata": {},
   "source": [
    "Sélectionner la cellule contenant le code en cliquant dessus et faire `Ctrl+Enter` pour exécuter le code."
   ]
  },
  {
   "cell_type": "code",
   "execution_count": 1,
   "metadata": {},
   "outputs": [
    {
     "name": "stdout",
     "output_type": "stream",
     "text": [
      "Hello Word!\n"
     ]
    }
   ],
   "source": [
    "print(\"Hello Word!\")"
   ]
  },
  {
   "cell_type": "markdown",
   "metadata": {},
   "source": [
    "## Afficher le carré de la valeur saisie"
   ]
  },
  {
   "cell_type": "markdown",
   "metadata": {},
   "source": [
    "Sélectionner la cellule contenant le code en cliquant dessus et faire `Ctrl+Enter` pour exécuter le code."
   ]
  },
  {
   "cell_type": "code",
   "execution_count": 6,
   "metadata": {},
   "outputs": [
    {
     "name": "stdin",
     "output_type": "stream",
     "text": [
      "Saisir une valeur:  10\n"
     ]
    },
    {
     "name": "stdout",
     "output_type": "stream",
     "text": [
      "La valeur au carré est 100\n"
     ]
    }
   ],
   "source": [
    "x = int(input(\"Saisir une valeur: \"))\n",
    "x = pow(x,2)\n",
    "print(\"La valeur au carré est \" + str(x))"
   ]
  },
  {
   "cell_type": "markdown",
   "metadata": {},
   "source": [
    "## Calcul d'IMC"
   ]
  },
  {
   "cell_type": "markdown",
   "metadata": {},
   "source": [
    "Sélectionner la cellule contenant le code en cliquant dessus et faire `Ctrl+Enter` pour exécuter le code."
   ]
  },
  {
   "cell_type": "code",
   "execution_count": 8,
   "metadata": {},
   "outputs": [
    {
     "name": "stdin",
     "output_type": "stream",
     "text": [
      "Votre poids en kg:  65\n",
      "Votre taille en cm:  176\n"
     ]
    },
    {
     "name": "stdout",
     "output_type": "stream",
     "text": [
      "Votre IMC est 21.0\n",
      "Etat : Corpulence normale!\n"
     ]
    }
   ],
   "source": [
    "masse = int(input(\"Votre poids en kg: \"))\n",
    "taille = int(input(\"Votre taille en cm: \"))\n",
    "taille = taille/100\n",
    "IMC = (masse)/(pow(taille,2))\n",
    "IMC = round(IMC,1)\n",
    "print(\"Votre IMC est \" + str(IMC))\n",
    "if IMC < 16.5:\n",
    "    print(\"Etat : Dénutrition ou famine!\")\n",
    "elif IMC < 18.5:\n",
    "    print(\"Etat : Maigreur!\")\n",
    "elif IMC < 25:\n",
    "    print(\"Etat : Corpulence normale!\")\n",
    "elif IMC < 30:\n",
    "    print(\"Etat : Surpoids!\")\n",
    "elif IMC < 40:\n",
    "    print(\"Etat : Obésivité sévère!\")\n",
    "elif IMC >= 40:\n",
    "    print(\"Etat : Obésité morbide ou massive!\")"
   ]
  },
  {
   "cell_type": "markdown",
   "metadata": {},
   "source": [
    "## Conversion décimal-bianire"
   ]
  },
  {
   "cell_type": "markdown",
   "metadata": {},
   "source": [
    "Sélectionner la cellule contenant le code en cliquant dessus et faire `Ctrl+Enter` pour exécuter le code."
   ]
  },
  {
   "cell_type": "code",
   "execution_count": 1,
   "metadata": {},
   "outputs": [
    {
     "name": "stdin",
     "output_type": "stream",
     "text": [
      "Nombre à convertir:  10\n"
     ]
    },
    {
     "name": "stdout",
     "output_type": "stream",
     "text": [
      "1010"
     ]
    }
   ],
   "source": [
    "x=int(input(\"Nombre à convertir: \"));\n",
    "answer = [];\n",
    "i = 0;\n",
    "while(x>0):\n",
    "  reste = x % 2;\n",
    "  x = x // 2;\n",
    "  answer.append(reste);\n",
    "answer.reverse();\n",
    "for i in range(len(answer)):\n",
    "  print(answer[i], end=\"\");"
   ]
  },
  {
   "cell_type": "markdown",
   "metadata": {},
   "source": [
    "## Créer des équipes en tirant au sort les membres"
   ]
  },
  {
   "cell_type": "markdown",
   "metadata": {},
   "source": [
    "Sélectionner la cellule contenant le code en cliquant dessus et faire `Ctrl+Enter` pour exécuter le code."
   ]
  },
  {
   "cell_type": "code",
   "execution_count": 2,
   "metadata": {},
   "outputs": [
    {
     "name": "stdin",
     "output_type": "stream",
     "text": [
      "Nombre d'équipes? 4\n"
     ]
    },
    {
     "name": "stdout",
     "output_type": "stream",
     "text": [
      "Equipe  1 :\n",
      "- Julie\n",
      "- Julien\n",
      "- Yoan\n",
      "- Chloe\n",
      "Equipe  2 :\n",
      "- Eric\n",
      "- Joseph\n",
      "- Alice\n",
      "Equipe  3 :\n",
      "- Thibault\n",
      "- Alaric\n",
      "- Stéphanie\n",
      "Equipe  4 :\n",
      "- Pablo\n",
      "- Theo\n",
      "- Elise\n"
     ]
    }
   ],
   "source": [
    "# Auteur: Yoan Poulmarc'k (TS3)\n",
    "# Version:1.0.0\n",
    "# Atelier ISN #06\n",
    "\n",
    "import random #librarie de hasard (pour random.shuffle)\n",
    "#On definit les fonctions\n",
    "#On assure qu'il y a un nombre correct d'equipe\n",
    "def input_correct (nb_equipe,nb_joueur):\n",
    "  if nb_equipe < 1:\n",
    "    print (\"Il faut au moins une équipe!\");\n",
    "  if nb_equipe > nb_joueur:\n",
    "    print(\"Trop d'équipes!\");\n",
    "  return;\n",
    "\n",
    "#Assigne a chaque jouer son equipe\n",
    "def donner_equipe(nb_joueur,Vtemp,equipe_joueur,nb_equipe):\n",
    "  for i in range (nb_joueur):\n",
    "    equipe_joueur.append(i);\n",
    "    if Vtemp > nb_equipe:\n",
    "      Vtemp=1;\n",
    "    equipe_joueur[i]= Vtemp\n",
    "    Vtemp = Vtemp+1;\n",
    "\n",
    "#Ecrit les joueurs par equipe\n",
    "def ecrire_equipe(nb_equipe,equipe_joueur,nb_joueur,nom_joueur):\n",
    "  for x in range (nb_equipe):\n",
    "    x=x+1;\n",
    "    print(\"Equipe \",x,\":\");  \n",
    "    for i in range (nb_joueur):\n",
    "      if equipe_joueur[i] == x:\n",
    "        print(\"-\",nom_joueur[i]);\n",
    "\n",
    "\n",
    "#Definie toutes les variables\n",
    "Vtemp = 1;\n",
    "nb_joueur=13;\n",
    "nb_equipe=int(input(\"Nombre d'équipes?\"));\n",
    "nom_joueur=['Yoan','Alaric','Chloe','Pablo','Theo','Alice','Thibault','Joseph','Julie','Eric','Julien','Stéphanie','Elise'];\n",
    "equipe_joueur=[nb_equipe];\n",
    "\n",
    "#On brouille\n",
    "random.shuffle(nom_joueur);\n",
    "\n",
    "input_correct(nb_equipe,nb_joueur);\n",
    "donner_equipe(nb_joueur,Vtemp,equipe_joueur,nb_equipe);\n",
    "ecrire_equipe(nb_equipe,equipe_joueur,nb_joueur,nom_joueur);"
   ]
  }
 ],
 "metadata": {
  "kernelspec": {
   "display_name": "Python 3",
   "language": "python",
   "name": "python3"
  },
  "language_info": {
   "codemirror_mode": {
    "name": "ipython",
    "version": 3
   },
   "file_extension": ".py",
   "mimetype": "text/x-python",
   "name": "python",
   "nbconvert_exporter": "python",
   "pygments_lexer": "ipython3",
   "version": "3.7.0"
  }
 },
 "nbformat": 4,
 "nbformat_minor": 2
}
